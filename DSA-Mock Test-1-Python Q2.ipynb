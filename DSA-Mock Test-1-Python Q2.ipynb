{
 "cells": [
  {
   "cell_type": "markdown",
   "id": "a6fd94ef-6580-46a7-a4f2-6c7bf27eb10d",
   "metadata": {},
   "source": [
    "2 First Unique Character in a String\n",
    "\n",
    "Given a string s, find the first non-repeating character in it and return its index. If it does not exist, return -1.\n",
    "\n",
    "Example 1: Input: s = \"leetcode\" Output: 0\n",
    "\n",
    "Example 2: Input: s = \"loveleetcode\" Output: 2\n",
    "\n",
    "Example 3: Input: s = \"aabb\" Output: -1\n",
    "\n",
    "Constraints: a. 1 <= s.length <= 10^5 b. s consists of only lowercase English letters\n"
   ]
  },
  {
   "cell_type": "code",
   "execution_count": 1,
   "id": "3eb84a69-b09e-4511-b9ea-fb2919610909",
   "metadata": {},
   "outputs": [
    {
     "name": "stdout",
     "output_type": "stream",
     "text": [
      "0\n",
      "2\n",
      "-1\n"
     ]
    }
   ],
   "source": [
    "#To find the first non-repeating character in a string, you can use a hashmap to store the frequency of each character. Then, iterate through the string again to find the first character with a frequency of 1.\n",
    "def firstUniqChar(s):\n",
    "    freq = {}\n",
    "\n",
    "    # Count the frequency of each character\n",
    "    for char in s:\n",
    "        if char in freq:\n",
    "            freq[char] += 1\n",
    "        else:\n",
    "            freq[char] = 1\n",
    "\n",
    "    # Find the first character with frequency 1\n",
    "    for i, char in enumerate(s):\n",
    "        if freq[char] == 1:\n",
    "            return i\n",
    "\n",
    "    return -1\n",
    "s1 = \"leetcode\"\n",
    "print(firstUniqChar(s1))\n",
    "\n",
    "\n",
    "s2 = \"loveleetcode\"\n",
    "print(firstUniqChar(s2))\n",
    "\n",
    "\n",
    "s3 = \"aabb\"\n",
    "print(firstUniqChar(s3))"
   ]
  },
  {
   "cell_type": "code",
   "execution_count": null,
   "id": "03f4ab77-5987-496b-8c1f-591191b48e41",
   "metadata": {},
   "outputs": [],
   "source": []
  }
 ],
 "metadata": {
  "kernelspec": {
   "display_name": "Python 3 (ipykernel)",
   "language": "python",
   "name": "python3"
  },
  "language_info": {
   "codemirror_mode": {
    "name": "ipython",
    "version": 3
   },
   "file_extension": ".py",
   "mimetype": "text/x-python",
   "name": "python",
   "nbconvert_exporter": "python",
   "pygments_lexer": "ipython3",
   "version": "3.10.8"
  }
 },
 "nbformat": 4,
 "nbformat_minor": 5
}
